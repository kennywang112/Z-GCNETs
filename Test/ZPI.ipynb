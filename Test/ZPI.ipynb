{
 "cells": [
  {
   "cell_type": "code",
   "execution_count": 9,
   "metadata": {},
   "outputs": [],
   "source": [
    "import numpy as np\n",
    "import matplotlib.pyplot as plt"
   ]
  },
  {
   "cell_type": "markdown",
   "metadata": {},
   "source": [
    "### simulate ZPI computing"
   ]
  },
  {
   "cell_type": "code",
   "execution_count": null,
   "metadata": {},
   "outputs": [],
   "source": [
    "def simple_zpi(diagram, res=5, bandwidth=0.05):\n",
    "    b, d = diagram[:,0], diagram[:,1]\n",
    "    x = np.linspace(b.min(), b.max(), res)\n",
    "    y = np.linspace(d.min(), d.max(), res)\n",
    "    X, Y = np.meshgrid(x, y)\n",
    "    \n",
    "    image = np.zeros_like(X)\n",
    "    \n",
    "    for (bx, dx) in diagram:\n",
    "        dist = (X - bx)**2 + (Y - dx)**2\n",
    "        image += np.exp(-dist / bandwidth)\n",
    "    \n",
    "    image = (image - image.min()) / (image.max() - image.min())\n",
    "    return image\n",
    "\n",
    "diagram = np.array([[0.2, 0.6], [0.4, 0.5], [0.1, 0.8]])\n",
    "zpi_img = simple_zpi(diagram)\n",
    "\n",
    "plt.imshow(zpi_img, cmap='hot')\n",
    "plt.title(\"Toy ZPI (5x5)\")\n",
    "plt.colorbar()\n",
    "plt.show()"
   ]
  },
  {
   "cell_type": "code",
   "execution_count": 6,
   "metadata": {},
   "outputs": [
    {
     "data": {
      "text/plain": [
       "array([0.38765294, 0.65136842, 0.81874235, 0.84424809, 0.71395138,\n",
       "       0.65136842, 0.90380545, 1.        , 0.9273271 , 0.71576886,\n",
       "       0.81874235, 1.        , 0.98106889, 0.79850446, 0.5279462 ,\n",
       "       0.84424809, 0.9273271 , 0.79850446, 0.53963483, 0.25428061,\n",
       "       0.71395138, 0.71576886, 0.5279462 , 0.25428061, 0.        ])"
      ]
     },
     "execution_count": 6,
     "metadata": {},
     "output_type": "execute_result"
    }
   ],
   "source": [
    "zpi_vec = zpi_img.flatten()\n",
    "zpi_vec"
   ]
  },
  {
   "cell_type": "markdown",
   "metadata": {},
   "source": [
    "### 是feature被乘，所以有意義"
   ]
  },
  {
   "cell_type": "code",
   "execution_count": null,
   "metadata": {},
   "outputs": [
    {
     "data": {
      "text/plain": [
       "array([[0.38765294, 0.65136842, 0.81874235, 0.84424809, 0.71395138,\n",
       "        0.65136842, 0.90380545, 1.        , 0.9273271 , 0.71576886,\n",
       "        0.81874235, 1.        , 0.98106889, 0.79850446, 0.5279462 ,\n",
       "        0.84424809, 0.9273271 , 0.79850446, 0.53963483, 0.25428061,\n",
       "        0.71395138, 0.71576886, 0.5279462 , 0.25428061, 0.        ],\n",
       "       [0.77530587, 1.30273683, 1.63748469, 1.68849618, 1.42790277,\n",
       "        1.30273683, 1.80761091, 2.        , 1.8546542 , 1.43153772,\n",
       "        1.63748469, 2.        , 1.96213778, 1.59700892, 1.0558924 ,\n",
       "        1.68849618, 1.8546542 , 1.59700892, 1.07926967, 0.50856123,\n",
       "        1.42790277, 1.43153772, 1.0558924 , 0.50856123, 0.        ]])"
      ]
     },
     "execution_count": 8,
     "metadata": {},
     "output_type": "execute_result"
    }
   ],
   "source": [
    "node_features = np.array([\n",
    "    [1.0] * 25,\n",
    "    [2.0] * 25 \n",
    "])\n",
    "weighted_features = node_features * zpi_vec  # broadcasting element-wise\n",
    "weighted_features"
   ]
  }
 ],
 "metadata": {
  "kernelspec": {
   "display_name": "DRcomplex",
   "language": "python",
   "name": "python3"
  },
  "language_info": {
   "codemirror_mode": {
    "name": "ipython",
    "version": 3
   },
   "file_extension": ".py",
   "mimetype": "text/x-python",
   "name": "python",
   "nbconvert_exporter": "python",
   "pygments_lexer": "ipython3",
   "version": "3.9.13"
  }
 },
 "nbformat": 4,
 "nbformat_minor": 2
}
